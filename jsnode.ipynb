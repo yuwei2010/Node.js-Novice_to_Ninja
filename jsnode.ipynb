{
 "cells": [
  {
   "cell_type": "code",
   "execution_count": null,
   "id": "26cff7a5",
   "metadata": {},
   "outputs": [
    {
     "ename": "",
     "evalue": "",
     "output_type": "error",
     "traceback": [
      "\u001b[1;31mFailed to start the Kernel. \n",
      "\u001b[1;31mView Jupyter <a href='command:jupyter.viewOutput'>log</a> for further details."
     ]
    }
   ],
   "source": [
    "var a = 11"
   ]
  },
  {
   "cell_type": "code",
   "execution_count": null,
   "id": "7358a6e4-3731-4a8e-97ce-f94018393727",
   "metadata": {},
   "outputs": [
    {
     "ename": "",
     "evalue": "",
     "output_type": "error",
     "traceback": [
      "\u001b[1;31mFailed to start the Kernel. \n",
      "\u001b[1;31mView Jupyter <a href='command:jupyter.viewOutput'>log</a> for further details."
     ]
    }
   ],
   "source": [
    "var a = 11\n",
    "console.warn(a)"
   ]
  },
  {
   "cell_type": "code",
   "execution_count": null,
   "id": "689ca8e2-9a98-48f2-bf76-acdcfd928a5f",
   "metadata": {},
   "outputs": [
    {
     "ename": "",
     "evalue": "",
     "output_type": "error",
     "traceback": [
      "\u001b[1;31mFailed to start the Kernel. \n",
      "\u001b[1;31mView Jupyter <a href='command:jupyter.viewOutput'>log</a> for further details."
     ]
    }
   ],
   "source": [
    "const myname = 'world'"
   ]
  },
  {
   "cell_type": "code",
   "execution_count": null,
   "id": "ec033939-7a66-47e1-b276-333a050751b3",
   "metadata": {},
   "outputs": [
    {
     "ename": "",
     "evalue": "",
     "output_type": "error",
     "traceback": [
      "\u001b[1;31mFailed to start the Kernel. \n",
      "\u001b[1;31mView Jupyter <a href='command:jupyter.viewOutput'>log</a> for further details."
     ]
    }
   ],
   "source": [
    "\n",
    "console.log(`Hello ${ myname }`);"
   ]
  },
  {
   "cell_type": "markdown",
   "id": "e418b6f6-e385-4336-b884-f3c0a50c4f6b",
   "metadata": {},
   "source": [
    "# Print hello world"
   ]
  },
  {
   "cell_type": "code",
   "execution_count": null,
   "id": "5919a99a-83f7-4304-877b-ddb001b047bc",
   "metadata": {},
   "outputs": [
    {
     "ename": "",
     "evalue": "",
     "output_type": "error",
     "traceback": [
      "\u001b[1;31mFailed to start the Kernel. \n",
      "\u001b[1;31mView Jupyter <a href='command:jupyter.viewOutput'>log</a> for further details."
     ]
    }
   ],
   "source": [
    "// fetch name from command or fallback\n",
    "const nameArg = (process.argv[2] || 'world');"
   ]
  },
  {
   "cell_type": "code",
   "execution_count": null,
   "id": "f7f39f04-fce3-4192-a1b2-01778dfb7c0e",
   "metadata": {},
   "outputs": [
    {
     "ename": "",
     "evalue": "",
     "output_type": "error",
     "traceback": [
      "\u001b[1;31mFailed to start the Kernel. \n",
      "\u001b[1;31mView Jupyter <a href='command:jupyter.viewOutput'>log</a> for further details."
     ]
    }
   ],
   "source": [
    "nameArg"
   ]
  },
  {
   "cell_type": "code",
   "execution_count": null,
   "id": "8caafb34-13dc-4633-8e1a-7a6803fbb650",
   "metadata": {},
   "outputs": [
    {
     "ename": "",
     "evalue": "",
     "output_type": "error",
     "traceback": [
      "\u001b[1;31mFailed to start the Kernel. \n",
      "\u001b[1;31mView Jupyter <a href='command:jupyter.viewOutput'>log</a> for further details."
     ]
    }
   ],
   "source": [
    "const nameArg1 = (process.argv[2] || process.env.USER ||\n",
    "process.env.USERNAME || 'world');"
   ]
  },
  {
   "cell_type": "code",
   "execution_count": null,
   "id": "287e35dd-5923-4d92-bf35-fb05a18c71c8",
   "metadata": {},
   "outputs": [
    {
     "ename": "",
     "evalue": "",
     "output_type": "error",
     "traceback": [
      "\u001b[1;31mFailed to start the Kernel. \n",
      "\u001b[1;31mView Jupyter <a href='command:jupyter.viewOutput'>log</a> for further details."
     ]
    }
   ],
   "source": [
    "nameArg1"
   ]
  },
  {
   "cell_type": "code",
   "execution_count": null,
   "id": "efe51078-f244-47fc-a50d-f4ca6f6937ca",
   "metadata": {},
   "outputs": [
    {
     "ename": "",
     "evalue": "",
     "output_type": "error",
     "traceback": [
      "\u001b[1;31mFailed to start the Kernel. \n",
      "\u001b[1;31mView Jupyter <a href='command:jupyter.viewOutput'>log</a> for further details."
     ]
    }
   ],
   "source": [
    "function capitalize(str) {\n",
    "    return str\n",
    "    .trim()\n",
    "    .toLowerCase()\n",
    "    .split(' ')\n",
    "    .map(word => word.charAt(0).toUpperCase() + word.slice(1))\n",
    "    .join(' ');\n",
    "}"
   ]
  },
  {
   "cell_type": "code",
   "execution_count": null,
   "id": "e37fa85a-e005-4abf-b561-b659e0710c3a",
   "metadata": {},
   "outputs": [
    {
     "ename": "",
     "evalue": "",
     "output_type": "error",
     "traceback": [
      "\u001b[1;31mFailed to start the Kernel. \n",
      "\u001b[1;31mView Jupyter <a href='command:jupyter.viewOutput'>log</a> for further details."
     ]
    }
   ],
   "source": [
    "capitalize(\"world\")"
   ]
  },
  {
   "cell_type": "code",
   "execution_count": null,
   "id": "a96ac4cb-9850-4348-9577-8027d845afe4",
   "metadata": {},
   "outputs": [
    {
     "ename": "",
     "evalue": "",
     "output_type": "error",
     "traceback": [
      "\u001b[1;31mFailed to start the Kernel. \n",
      "\u001b[1;31mView Jupyter <a href='command:jupyter.viewOutput'>log</a> for further details."
     ]
    }
   ],
   "source": [
    "\"Hello World\".slice(4)"
   ]
  },
  {
   "cell_type": "code",
   "execution_count": null,
   "id": "b9b2cae1-ad02-4c40-a937-23702c9109bb",
   "metadata": {},
   "outputs": [
    {
     "ename": "",
     "evalue": "",
     "output_type": "error",
     "traceback": [
      "\u001b[1;31mFailed to start the Kernel. \n",
      "\u001b[1;31mView Jupyter <a href='command:jupyter.viewOutput'>log</a> for further details."
     ]
    }
   ],
   "source": [
    "\" Hello World \".trim()"
   ]
  },
  {
   "cell_type": "markdown",
   "id": "f47f8931-22cb-4bb0-a2c8-9e2411786c77",
   "metadata": {},
   "source": [
    "# Create a web version of \"Hello world\""
   ]
  },
  {
   "cell_type": "code",
   "execution_count": null,
   "id": "31ad9a2c-4944-4f9d-931b-14d52e647545",
   "metadata": {},
   "outputs": [
    {
     "ename": "",
     "evalue": "",
     "output_type": "error",
     "traceback": [
      "\u001b[1;31mFailed to start the Kernel. \n",
      "\u001b[1;31mView Jupyter <a href='command:jupyter.viewOutput'>log</a> for further details."
     ]
    }
   ],
   "source": [
    "const\n",
    "port = (process.argv[2] || process.env.PORT || 3000),\n",
    "http = require('http');\n",
    "\n",
    "http.createServer((req, res) => {\n",
    "    \n",
    "    console.log(req.url);\n",
    "    res.statusCode = 200;\n",
    "    res.setHeader('Content-Type', 'text/html');\n",
    "    res.end(`<p>Hello World!</p>`);\n",
    "    \n",
    "}).listen(port);\n",
    "\n",
    "console.log(`Server running at http://localhost:${ port }/`);\n"
   ]
  },
  {
   "cell_type": "code",
   "execution_count": null,
   "id": "01eeb36c-4095-4888-990c-eeeb94a1fbdd",
   "metadata": {},
   "outputs": [
    {
     "ename": "",
     "evalue": "",
     "output_type": "error",
     "traceback": [
      "\u001b[1;31mFailed to start the Kernel. \n",
      "\u001b[1;31mView Jupyter <a href='command:jupyter.viewOutput'>log</a> for further details."
     ]
    }
   ],
   "source": [
    "const util = require('util');\n",
    "const debuglog = util.debuglog('myapp');\n",
    "debuglog('myapp debug message [%d]', 123);"
   ]
  },
  {
   "cell_type": "code",
   "execution_count": null,
   "id": "16a0e67b-cac7-4e2f-b30d-cff8005c9cbe",
   "metadata": {},
   "outputs": [
    {
     "ename": "",
     "evalue": "",
     "output_type": "error",
     "traceback": [
      "\u001b[1;31mFailed to start the Kernel. \n",
      "\u001b[1;31mView Jupyter <a href='command:jupyter.viewOutput'>log</a> for further details."
     ]
    }
   ],
   "source": []
  },
  {
   "cell_type": "code",
   "execution_count": null,
   "id": "154ffd1a-adca-4c8b-9376-38fb565ffc11",
   "metadata": {},
   "outputs": [
    {
     "ename": "",
     "evalue": "",
     "output_type": "error",
     "traceback": [
      "\u001b[1;31mFailed to start the Kernel. \n",
      "\u001b[1;31mView Jupyter <a href='command:jupyter.viewOutput'>log</a> for further details."
     ]
    }
   ],
   "source": []
  }
 ],
 "metadata": {
  "kernelspec": {
   "display_name": "JavaScript (Node.js)",
   "language": "javascript",
   "name": "javascript"
  },
  "language_info": {
   "codemirror_mode": {
    "name": "ipython",
    "version": 3
   },
   "file_extension": ".py",
   "mimetype": "text/x-python",
   "name": "javascript",
   "nbconvert_exporter": "python",
   "pygments_lexer": "ipython3",
   "version": "3.11.7"
  }
 },
 "nbformat": 4,
 "nbformat_minor": 5
}

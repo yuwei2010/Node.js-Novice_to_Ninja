{
 "cells": [
  {
   "cell_type": "code",
   "execution_count": 1,
   "id": "7358a6e4-3731-4a8e-97ce-f94018393727",
   "metadata": {},
   "outputs": [
    {
     "name": "stderr",
     "output_type": "stream",
     "text": [
      "11\n"
     ]
    }
   ],
   "source": [
    "var a = 11\n",
    "console.warn(a)"
   ]
  },
  {
   "cell_type": "code",
   "execution_count": 2,
   "id": "689ca8e2-9a98-48f2-bf76-acdcfd928a5f",
   "metadata": {},
   "outputs": [],
   "source": [
    "const myname = 'world'"
   ]
  },
  {
   "cell_type": "code",
   "execution_count": 3,
   "id": "ec033939-7a66-47e1-b276-333a050751b3",
   "metadata": {},
   "outputs": [
    {
     "name": "stdout",
     "output_type": "stream",
     "text": [
      "Hello world\n"
     ]
    }
   ],
   "source": [
    "\n",
    "console.log(`Hello ${ myname }`);"
   ]
  },
  {
   "cell_type": "markdown",
   "id": "e418b6f6-e385-4336-b884-f3c0a50c4f6b",
   "metadata": {},
   "source": [
    "# Print hello world"
   ]
  },
  {
   "cell_type": "code",
   "execution_count": 4,
   "id": "5919a99a-83f7-4304-877b-ddb001b047bc",
   "metadata": {},
   "outputs": [],
   "source": [
    "// fetch name from command or fallback\n",
    "const nameArg = (process.argv[2] || 'world');"
   ]
  },
  {
   "cell_type": "code",
   "execution_count": 5,
   "id": "f7f39f04-fce3-4192-a1b2-01778dfb7c0e",
   "metadata": {},
   "outputs": [
    {
     "data": {
      "text/plain": [
       "'world'"
      ]
     },
     "execution_count": 5,
     "metadata": {},
     "output_type": "execute_result"
    }
   ],
   "source": [
    "nameArg"
   ]
  },
  {
   "cell_type": "code",
   "execution_count": 8,
   "id": "8caafb34-13dc-4633-8e1a-7a6803fbb650",
   "metadata": {},
   "outputs": [],
   "source": [
    "const nameArg1 = (process.argv[2] || process.env.USER ||\n",
    "process.env.USERNAME || 'world');"
   ]
  },
  {
   "cell_type": "code",
   "execution_count": 9,
   "id": "287e35dd-5923-4d92-bf35-fb05a18c71c8",
   "metadata": {},
   "outputs": [
    {
     "data": {
      "text/plain": [
       "'YUW1SI'"
      ]
     },
     "execution_count": 9,
     "metadata": {},
     "output_type": "execute_result"
    }
   ],
   "source": [
    "nameArg1"
   ]
  },
  {
   "cell_type": "code",
   "execution_count": 11,
   "id": "efe51078-f244-47fc-a50d-f4ca6f6937ca",
   "metadata": {},
   "outputs": [],
   "source": [
    "function capitalize(str) {\n",
    "    return str\n",
    "    .trim()\n",
    "    .toLowerCase()\n",
    "    .split(' ')\n",
    "    .map(word => word.charAt(0).toUpperCase() + word.slice(1))\n",
    "    .join(' ');\n",
    "}"
   ]
  },
  {
   "cell_type": "code",
   "execution_count": 12,
   "id": "e37fa85a-e005-4abf-b561-b659e0710c3a",
   "metadata": {},
   "outputs": [
    {
     "data": {
      "text/plain": [
       "'World'"
      ]
     },
     "execution_count": 12,
     "metadata": {},
     "output_type": "execute_result"
    }
   ],
   "source": [
    "capitalize(\"world\")"
   ]
  },
  {
   "cell_type": "code",
   "execution_count": 15,
   "id": "a96ac4cb-9850-4348-9577-8027d845afe4",
   "metadata": {},
   "outputs": [
    {
     "data": {
      "text/plain": [
       "'o World'"
      ]
     },
     "execution_count": 15,
     "metadata": {},
     "output_type": "execute_result"
    }
   ],
   "source": [
    "\"Hello World\".slice(4)"
   ]
  },
  {
   "cell_type": "code",
   "execution_count": 17,
   "id": "b9b2cae1-ad02-4c40-a937-23702c9109bb",
   "metadata": {},
   "outputs": [
    {
     "data": {
      "text/plain": [
       "'Hello World'"
      ]
     },
     "execution_count": 17,
     "metadata": {},
     "output_type": "execute_result"
    }
   ],
   "source": [
    "\" Hello World \".trim()"
   ]
  },
  {
   "cell_type": "markdown",
   "id": "f47f8931-22cb-4bb0-a2c8-9e2411786c77",
   "metadata": {},
   "source": [
    "# Create a web version of \"Hello world\""
   ]
  },
  {
   "cell_type": "code",
   "execution_count": 21,
   "id": "31ad9a2c-4944-4f9d-931b-14d52e647545",
   "metadata": {},
   "outputs": [
    {
     "ename": "SyntaxError",
     "evalue": "Identifier 'port' has already been declared",
     "execution_count": 21,
     "output_type": "error",
     "traceback": [
      "evalmachine.<anonymous>:1",
      "const",
      "^",
      "",
      "SyntaxError: Identifier 'port' has already been declared",
      "    at Script.runInThisContext (node:vm:123:12)",
      "    at Object.runInThisContext (node:vm:299:38)",
      "    at run ([eval]:1020:15)",
      "    at onRunRequest ([eval]:864:18)",
      "    at onMessage ([eval]:828:13)",
      "    at process.emit (node:events:517:28)",
      "    at emit (node:internal/child_process:944:14)",
      "    at process.processTicksAndRejections (node:internal/process/task_queues:83:21)"
     ]
    },
    {
     "name": "stdout",
     "output_type": "stream",
     "text": [
      "/\n",
      "/favicon.ico\n"
     ]
    }
   ],
   "source": [
    "const\n",
    "port = (process.argv[2] || process.env.PORT || 3000),\n",
    "http = require('http');\n",
    "\n",
    "http.createServer((req, res) => {\n",
    "    \n",
    "    console.log(req.url);\n",
    "    res.statusCode = 200;\n",
    "    res.setHeader('Content-Type', 'text/html');\n",
    "    res.end(`<p>Hello World!</p>`);\n",
    "    \n",
    "}).listen(port);\n",
    "\n",
    "console.log(`Server running at http://localhost:${ port }/`);\n"
   ]
  },
  {
   "cell_type": "code",
   "execution_count": null,
   "id": "01eeb36c-4095-4888-990c-eeeb94a1fbdd",
   "metadata": {},
   "outputs": [],
   "source": []
  },
  {
   "cell_type": "code",
   "execution_count": null,
   "id": "154ffd1a-adca-4c8b-9376-38fb565ffc11",
   "metadata": {},
   "outputs": [],
   "source": []
  }
 ],
 "metadata": {
  "kernelspec": {
   "display_name": "JavaScript (Node.js)",
   "language": "javascript",
   "name": "javascript"
  },
  "language_info": {
   "file_extension": ".js",
   "mimetype": "application/javascript",
   "name": "javascript",
   "version": "18.18.2"
  }
 },
 "nbformat": 4,
 "nbformat_minor": 5
}
